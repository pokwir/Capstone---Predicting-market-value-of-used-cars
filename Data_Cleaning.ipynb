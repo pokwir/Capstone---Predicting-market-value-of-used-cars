{
 "cells": [
  {
   "cell_type": "code",
   "execution_count": 221,
   "metadata": {},
   "outputs": [],
   "source": [
    "import numpy as np\n",
    "import pandas as pd\n",
    "import os"
   ]
  },
  {
   "cell_type": "code",
   "execution_count": 222,
   "metadata": {},
   "outputs": [],
   "source": [
    "data = 'Data/vehicles.csv'"
   ]
  },
  {
   "cell_type": "code",
   "execution_count": 223,
   "metadata": {},
   "outputs": [
    {
     "data": {
      "text/html": [
       "<div>\n",
       "<style scoped>\n",
       "    .dataframe tbody tr th:only-of-type {\n",
       "        vertical-align: middle;\n",
       "    }\n",
       "\n",
       "    .dataframe tbody tr th {\n",
       "        vertical-align: top;\n",
       "    }\n",
       "\n",
       "    .dataframe thead th {\n",
       "        text-align: right;\n",
       "    }\n",
       "</style>\n",
       "<table border=\"1\" class=\"dataframe\">\n",
       "  <thead>\n",
       "    <tr style=\"text-align: right;\">\n",
       "      <th></th>\n",
       "      <th>id</th>\n",
       "      <th>url</th>\n",
       "      <th>region</th>\n",
       "      <th>region_url</th>\n",
       "      <th>price</th>\n",
       "      <th>year</th>\n",
       "      <th>manufacturer</th>\n",
       "      <th>model</th>\n",
       "      <th>condition</th>\n",
       "      <th>cylinders</th>\n",
       "      <th>...</th>\n",
       "      <th>size</th>\n",
       "      <th>type</th>\n",
       "      <th>paint_color</th>\n",
       "      <th>image_url</th>\n",
       "      <th>description</th>\n",
       "      <th>county</th>\n",
       "      <th>state</th>\n",
       "      <th>lat</th>\n",
       "      <th>long</th>\n",
       "      <th>posting_date</th>\n",
       "    </tr>\n",
       "  </thead>\n",
       "  <tbody>\n",
       "    <tr>\n",
       "      <th>0</th>\n",
       "      <td>7222695916</td>\n",
       "      <td>https://prescott.craigslist.org/cto/d/prescott...</td>\n",
       "      <td>prescott</td>\n",
       "      <td>https://prescott.craigslist.org</td>\n",
       "      <td>6000</td>\n",
       "      <td>NaN</td>\n",
       "      <td>NaN</td>\n",
       "      <td>NaN</td>\n",
       "      <td>NaN</td>\n",
       "      <td>NaN</td>\n",
       "      <td>...</td>\n",
       "      <td>NaN</td>\n",
       "      <td>NaN</td>\n",
       "      <td>NaN</td>\n",
       "      <td>NaN</td>\n",
       "      <td>NaN</td>\n",
       "      <td>NaN</td>\n",
       "      <td>az</td>\n",
       "      <td>NaN</td>\n",
       "      <td>NaN</td>\n",
       "      <td>NaN</td>\n",
       "    </tr>\n",
       "    <tr>\n",
       "      <th>1</th>\n",
       "      <td>7218891961</td>\n",
       "      <td>https://fayar.craigslist.org/ctd/d/bentonville...</td>\n",
       "      <td>fayetteville</td>\n",
       "      <td>https://fayar.craigslist.org</td>\n",
       "      <td>11900</td>\n",
       "      <td>NaN</td>\n",
       "      <td>NaN</td>\n",
       "      <td>NaN</td>\n",
       "      <td>NaN</td>\n",
       "      <td>NaN</td>\n",
       "      <td>...</td>\n",
       "      <td>NaN</td>\n",
       "      <td>NaN</td>\n",
       "      <td>NaN</td>\n",
       "      <td>NaN</td>\n",
       "      <td>NaN</td>\n",
       "      <td>NaN</td>\n",
       "      <td>ar</td>\n",
       "      <td>NaN</td>\n",
       "      <td>NaN</td>\n",
       "      <td>NaN</td>\n",
       "    </tr>\n",
       "    <tr>\n",
       "      <th>2</th>\n",
       "      <td>7221797935</td>\n",
       "      <td>https://keys.craigslist.org/cto/d/summerland-k...</td>\n",
       "      <td>florida keys</td>\n",
       "      <td>https://keys.craigslist.org</td>\n",
       "      <td>21000</td>\n",
       "      <td>NaN</td>\n",
       "      <td>NaN</td>\n",
       "      <td>NaN</td>\n",
       "      <td>NaN</td>\n",
       "      <td>NaN</td>\n",
       "      <td>...</td>\n",
       "      <td>NaN</td>\n",
       "      <td>NaN</td>\n",
       "      <td>NaN</td>\n",
       "      <td>NaN</td>\n",
       "      <td>NaN</td>\n",
       "      <td>NaN</td>\n",
       "      <td>fl</td>\n",
       "      <td>NaN</td>\n",
       "      <td>NaN</td>\n",
       "      <td>NaN</td>\n",
       "    </tr>\n",
       "    <tr>\n",
       "      <th>3</th>\n",
       "      <td>7222270760</td>\n",
       "      <td>https://worcester.craigslist.org/cto/d/west-br...</td>\n",
       "      <td>worcester / central MA</td>\n",
       "      <td>https://worcester.craigslist.org</td>\n",
       "      <td>1500</td>\n",
       "      <td>NaN</td>\n",
       "      <td>NaN</td>\n",
       "      <td>NaN</td>\n",
       "      <td>NaN</td>\n",
       "      <td>NaN</td>\n",
       "      <td>...</td>\n",
       "      <td>NaN</td>\n",
       "      <td>NaN</td>\n",
       "      <td>NaN</td>\n",
       "      <td>NaN</td>\n",
       "      <td>NaN</td>\n",
       "      <td>NaN</td>\n",
       "      <td>ma</td>\n",
       "      <td>NaN</td>\n",
       "      <td>NaN</td>\n",
       "      <td>NaN</td>\n",
       "    </tr>\n",
       "    <tr>\n",
       "      <th>4</th>\n",
       "      <td>7210384030</td>\n",
       "      <td>https://greensboro.craigslist.org/cto/d/trinit...</td>\n",
       "      <td>greensboro</td>\n",
       "      <td>https://greensboro.craigslist.org</td>\n",
       "      <td>4900</td>\n",
       "      <td>NaN</td>\n",
       "      <td>NaN</td>\n",
       "      <td>NaN</td>\n",
       "      <td>NaN</td>\n",
       "      <td>NaN</td>\n",
       "      <td>...</td>\n",
       "      <td>NaN</td>\n",
       "      <td>NaN</td>\n",
       "      <td>NaN</td>\n",
       "      <td>NaN</td>\n",
       "      <td>NaN</td>\n",
       "      <td>NaN</td>\n",
       "      <td>nc</td>\n",
       "      <td>NaN</td>\n",
       "      <td>NaN</td>\n",
       "      <td>NaN</td>\n",
       "    </tr>\n",
       "  </tbody>\n",
       "</table>\n",
       "<p>5 rows × 26 columns</p>\n",
       "</div>"
      ],
      "text/plain": [
       "           id                                                url  \\\n",
       "0  7222695916  https://prescott.craigslist.org/cto/d/prescott...   \n",
       "1  7218891961  https://fayar.craigslist.org/ctd/d/bentonville...   \n",
       "2  7221797935  https://keys.craigslist.org/cto/d/summerland-k...   \n",
       "3  7222270760  https://worcester.craigslist.org/cto/d/west-br...   \n",
       "4  7210384030  https://greensboro.craigslist.org/cto/d/trinit...   \n",
       "\n",
       "                   region                         region_url  price  year  \\\n",
       "0                prescott    https://prescott.craigslist.org   6000   NaN   \n",
       "1            fayetteville       https://fayar.craigslist.org  11900   NaN   \n",
       "2            florida keys        https://keys.craigslist.org  21000   NaN   \n",
       "3  worcester / central MA   https://worcester.craigslist.org   1500   NaN   \n",
       "4              greensboro  https://greensboro.craigslist.org   4900   NaN   \n",
       "\n",
       "  manufacturer model condition cylinders  ... size  type paint_color  \\\n",
       "0          NaN   NaN       NaN       NaN  ...  NaN   NaN         NaN   \n",
       "1          NaN   NaN       NaN       NaN  ...  NaN   NaN         NaN   \n",
       "2          NaN   NaN       NaN       NaN  ...  NaN   NaN         NaN   \n",
       "3          NaN   NaN       NaN       NaN  ...  NaN   NaN         NaN   \n",
       "4          NaN   NaN       NaN       NaN  ...  NaN   NaN         NaN   \n",
       "\n",
       "  image_url description county state lat long posting_date  \n",
       "0       NaN         NaN    NaN    az NaN  NaN          NaN  \n",
       "1       NaN         NaN    NaN    ar NaN  NaN          NaN  \n",
       "2       NaN         NaN    NaN    fl NaN  NaN          NaN  \n",
       "3       NaN         NaN    NaN    ma NaN  NaN          NaN  \n",
       "4       NaN         NaN    NaN    nc NaN  NaN          NaN  \n",
       "\n",
       "[5 rows x 26 columns]"
      ]
     },
     "execution_count": 223,
     "metadata": {},
     "output_type": "execute_result"
    }
   ],
   "source": [
    "df = pd.read_csv(data, low_memory=False)\n",
    "df.head()"
   ]
  },
  {
   "cell_type": "code",
   "execution_count": 224,
   "metadata": {},
   "outputs": [
    {
     "name": "stdout",
     "output_type": "stream",
     "text": [
      "id\n",
      "url\n",
      "region\n",
      "region_url\n",
      "price\n",
      "year\n",
      "manufacturer\n",
      "model\n",
      "condition\n",
      "cylinders\n",
      "fuel\n",
      "odometer\n",
      "title_status\n",
      "transmission\n",
      "VIN\n",
      "drive\n",
      "size\n",
      "type\n",
      "paint_color\n",
      "image_url\n",
      "description\n",
      "county\n",
      "state\n",
      "lat\n",
      "long\n",
      "posting_date\n"
     ]
    }
   ],
   "source": [
    "for col in df.columns:\n",
    "    print(col)"
   ]
  },
  {
   "cell_type": "code",
   "execution_count": null,
   "metadata": {},
   "outputs": [],
   "source": [
    "# count the number of missing values in each column\n",
    "df.isnull().sum()"
   ]
  },
  {
   "cell_type": "code",
   "execution_count": null,
   "metadata": {},
   "outputs": [],
   "source": [
    "# count the number of missing values in each column\n",
    "df.isnull().sum()"
   ]
  },
  {
   "cell_type": "code",
   "execution_count": null,
   "metadata": {},
   "outputs": [],
   "source": [
    "df.info()"
   ]
  },
  {
   "cell_type": "code",
   "execution_count": 227,
   "metadata": {},
   "outputs": [],
   "source": [
    "df.drop(['id', 'url', 'region_url', 'VIN', 'image_url', 'description', 'county', 'lat', 'long', 'posting_date', 'size'], axis=1, inplace=True)"
   ]
  },
  {
   "cell_type": "code",
   "execution_count": null,
   "metadata": {},
   "outputs": [],
   "source": [
    "# return unique values in region column\n",
    "df['year'].unique()"
   ]
  },
  {
   "cell_type": "code",
   "execution_count": 176,
   "metadata": {},
   "outputs": [],
   "source": [
    "df['Age'] = 2023 - df['year']"
   ]
  },
  {
   "cell_type": "code",
   "execution_count": 177,
   "metadata": {},
   "outputs": [
    {
     "data": {
      "text/plain": [
       "(426880, 16)"
      ]
     },
     "execution_count": 177,
     "metadata": {},
     "output_type": "execute_result"
    }
   ],
   "source": [
    "df.shape"
   ]
  },
  {
   "cell_type": "code",
   "execution_count": 180,
   "metadata": {},
   "outputs": [],
   "source": [
    "# df = df.dropna(subset=['year', 'odometer'])"
   ]
  },
  {
   "cell_type": "code",
   "execution_count": 225,
   "metadata": {},
   "outputs": [
    {
     "data": {
      "text/plain": [
       "(426880, 26)"
      ]
     },
     "execution_count": 225,
     "metadata": {},
     "output_type": "execute_result"
    }
   ],
   "source": [
    "df.shape"
   ]
  },
  {
   "cell_type": "code",
   "execution_count": 228,
   "metadata": {},
   "outputs": [
    {
     "data": {
      "text/html": [
       "<div>\n",
       "<style scoped>\n",
       "    .dataframe tbody tr th:only-of-type {\n",
       "        vertical-align: middle;\n",
       "    }\n",
       "\n",
       "    .dataframe tbody tr th {\n",
       "        vertical-align: top;\n",
       "    }\n",
       "\n",
       "    .dataframe thead th {\n",
       "        text-align: right;\n",
       "    }\n",
       "</style>\n",
       "<table border=\"1\" class=\"dataframe\">\n",
       "  <thead>\n",
       "    <tr style=\"text-align: right;\">\n",
       "      <th></th>\n",
       "      <th>region</th>\n",
       "      <th>price</th>\n",
       "      <th>year</th>\n",
       "      <th>manufacturer</th>\n",
       "      <th>model</th>\n",
       "      <th>condition</th>\n",
       "      <th>cylinders</th>\n",
       "      <th>fuel</th>\n",
       "      <th>odometer</th>\n",
       "      <th>title_status</th>\n",
       "      <th>transmission</th>\n",
       "      <th>drive</th>\n",
       "      <th>type</th>\n",
       "      <th>paint_color</th>\n",
       "      <th>state</th>\n",
       "    </tr>\n",
       "  </thead>\n",
       "  <tbody>\n",
       "    <tr>\n",
       "      <th>0</th>\n",
       "      <td>prescott</td>\n",
       "      <td>6000</td>\n",
       "      <td>NaN</td>\n",
       "      <td>NaN</td>\n",
       "      <td>NaN</td>\n",
       "      <td>NaN</td>\n",
       "      <td>NaN</td>\n",
       "      <td>NaN</td>\n",
       "      <td>NaN</td>\n",
       "      <td>NaN</td>\n",
       "      <td>NaN</td>\n",
       "      <td>NaN</td>\n",
       "      <td>NaN</td>\n",
       "      <td>NaN</td>\n",
       "      <td>az</td>\n",
       "    </tr>\n",
       "    <tr>\n",
       "      <th>1</th>\n",
       "      <td>fayetteville</td>\n",
       "      <td>11900</td>\n",
       "      <td>NaN</td>\n",
       "      <td>NaN</td>\n",
       "      <td>NaN</td>\n",
       "      <td>NaN</td>\n",
       "      <td>NaN</td>\n",
       "      <td>NaN</td>\n",
       "      <td>NaN</td>\n",
       "      <td>NaN</td>\n",
       "      <td>NaN</td>\n",
       "      <td>NaN</td>\n",
       "      <td>NaN</td>\n",
       "      <td>NaN</td>\n",
       "      <td>ar</td>\n",
       "    </tr>\n",
       "    <tr>\n",
       "      <th>2</th>\n",
       "      <td>florida keys</td>\n",
       "      <td>21000</td>\n",
       "      <td>NaN</td>\n",
       "      <td>NaN</td>\n",
       "      <td>NaN</td>\n",
       "      <td>NaN</td>\n",
       "      <td>NaN</td>\n",
       "      <td>NaN</td>\n",
       "      <td>NaN</td>\n",
       "      <td>NaN</td>\n",
       "      <td>NaN</td>\n",
       "      <td>NaN</td>\n",
       "      <td>NaN</td>\n",
       "      <td>NaN</td>\n",
       "      <td>fl</td>\n",
       "    </tr>\n",
       "    <tr>\n",
       "      <th>3</th>\n",
       "      <td>worcester / central MA</td>\n",
       "      <td>1500</td>\n",
       "      <td>NaN</td>\n",
       "      <td>NaN</td>\n",
       "      <td>NaN</td>\n",
       "      <td>NaN</td>\n",
       "      <td>NaN</td>\n",
       "      <td>NaN</td>\n",
       "      <td>NaN</td>\n",
       "      <td>NaN</td>\n",
       "      <td>NaN</td>\n",
       "      <td>NaN</td>\n",
       "      <td>NaN</td>\n",
       "      <td>NaN</td>\n",
       "      <td>ma</td>\n",
       "    </tr>\n",
       "    <tr>\n",
       "      <th>4</th>\n",
       "      <td>greensboro</td>\n",
       "      <td>4900</td>\n",
       "      <td>NaN</td>\n",
       "      <td>NaN</td>\n",
       "      <td>NaN</td>\n",
       "      <td>NaN</td>\n",
       "      <td>NaN</td>\n",
       "      <td>NaN</td>\n",
       "      <td>NaN</td>\n",
       "      <td>NaN</td>\n",
       "      <td>NaN</td>\n",
       "      <td>NaN</td>\n",
       "      <td>NaN</td>\n",
       "      <td>NaN</td>\n",
       "      <td>nc</td>\n",
       "    </tr>\n",
       "  </tbody>\n",
       "</table>\n",
       "</div>"
      ],
      "text/plain": [
       "                   region  price  year manufacturer model condition cylinders  \\\n",
       "0                prescott   6000   NaN          NaN   NaN       NaN       NaN   \n",
       "1            fayetteville  11900   NaN          NaN   NaN       NaN       NaN   \n",
       "2            florida keys  21000   NaN          NaN   NaN       NaN       NaN   \n",
       "3  worcester / central MA   1500   NaN          NaN   NaN       NaN       NaN   \n",
       "4              greensboro   4900   NaN          NaN   NaN       NaN       NaN   \n",
       "\n",
       "  fuel  odometer title_status transmission drive type paint_color state  \n",
       "0  NaN       NaN          NaN          NaN   NaN  NaN         NaN    az  \n",
       "1  NaN       NaN          NaN          NaN   NaN  NaN         NaN    ar  \n",
       "2  NaN       NaN          NaN          NaN   NaN  NaN         NaN    fl  \n",
       "3  NaN       NaN          NaN          NaN   NaN  NaN         NaN    ma  \n",
       "4  NaN       NaN          NaN          NaN   NaN  NaN         NaN    nc  "
      ]
     },
     "execution_count": 228,
     "metadata": {},
     "output_type": "execute_result"
    }
   ],
   "source": [
    "df.head()"
   ]
  },
  {
   "cell_type": "code",
   "execution_count": 229,
   "metadata": {},
   "outputs": [
    {
     "data": {
      "text/plain": [
       "good         121456\n",
       "excellent    101467\n",
       "like new      21178\n",
       "fair           6769\n",
       "new            1305\n",
       "salvage         601\n",
       "Name: condition, dtype: int64"
      ]
     },
     "execution_count": 229,
     "metadata": {},
     "output_type": "execute_result"
    }
   ],
   "source": [
    "df['condition'].value_counts()"
   ]
  },
  {
   "cell_type": "code",
   "execution_count": 230,
   "metadata": {},
   "outputs": [
    {
     "data": {
      "text/plain": [
       "sedan          87056\n",
       "SUV            77284\n",
       "pickup         43510\n",
       "truck          35279\n",
       "other          22110\n",
       "coupe          19204\n",
       "hatchback      16598\n",
       "wagon          10751\n",
       "van             8548\n",
       "convertible     7731\n",
       "mini-van        4825\n",
       "offroad          609\n",
       "bus              517\n",
       "Name: type, dtype: int64"
      ]
     },
     "execution_count": 230,
     "metadata": {},
     "output_type": "execute_result"
    }
   ],
   "source": [
    "df['type'].value_counts()"
   ]
  },
  {
   "cell_type": "code",
   "execution_count": 231,
   "metadata": {},
   "outputs": [
    {
     "data": {
      "text/plain": [
       "white     79285\n",
       "black     62861\n",
       "silver    42970\n",
       "blue      31223\n",
       "red       30473\n",
       "grey      24416\n",
       "green      7343\n",
       "custom     6700\n",
       "brown      6593\n",
       "yellow     2142\n",
       "orange     1984\n",
       "purple      687\n",
       "Name: paint_color, dtype: int64"
      ]
     },
     "execution_count": 231,
     "metadata": {},
     "output_type": "execute_result"
    }
   ],
   "source": [
    "df['paint_color'].value_counts()"
   ]
  },
  {
   "cell_type": "code",
   "execution_count": 232,
   "metadata": {},
   "outputs": [],
   "source": [
    "region = df['region'].value_counts()"
   ]
  },
  {
   "cell_type": "code",
   "execution_count": 233,
   "metadata": {},
   "outputs": [
    {
     "data": {
      "text/plain": [
       "0                       prescott\n",
       "1                   fayetteville\n",
       "2                   florida keys\n",
       "3         worcester / central MA\n",
       "4                     greensboro\n",
       "                   ...          \n",
       "426875                   wyoming\n",
       "426876                   wyoming\n",
       "426877                   wyoming\n",
       "426878                   wyoming\n",
       "426879                   wyoming\n",
       "Name: region, Length: 426880, dtype: object"
      ]
     },
     "execution_count": 233,
     "metadata": {},
     "output_type": "execute_result"
    }
   ],
   "source": [
    "df['region']"
   ]
  },
  {
   "cell_type": "code",
   "execution_count": 257,
   "metadata": {},
   "outputs": [],
   "source": [
    "df['region'] = df['region'].apply(lambda s: s if str(s) in region[:50] else 'others')"
   ]
  },
  {
   "cell_type": "code",
   "execution_count": 234,
   "metadata": {},
   "outputs": [],
   "source": [
    "mf = df['manufacturer'].value_counts()"
   ]
  },
  {
   "cell_type": "code",
   "execution_count": 256,
   "metadata": {},
   "outputs": [],
   "source": [
    "df['manufacturer'] = df['manufacturer'].apply(lambda s: s if str(s) in mf[:20] else 'others')"
   ]
  },
  {
   "cell_type": "code",
   "execution_count": null,
   "metadata": {},
   "outputs": [],
   "source": [
    "df['manufacturer'].value_counts()"
   ]
  },
  {
   "cell_type": "code",
   "execution_count": 236,
   "metadata": {},
   "outputs": [
    {
     "data": {
      "text/plain": [
       "array([70985, 55064, 34202, 21269, 19067, 19014, 18342, 16785, 14699,\n",
       "       13707, 11817, 10338,  9495,  9345,  8457,  8200,  7573,  6953,\n",
       "        6031,  5978,  5501,  5427,  4802,  4220,  3374,  3292,  2376,\n",
       "        2288,  2113,  1946,  1384,  1184,  1090,   897,   868,   792,\n",
       "         153,    95,    63,    24,    21,     3])"
      ]
     },
     "execution_count": 236,
     "metadata": {},
     "output_type": "execute_result"
    }
   ],
   "source": [
    "mf.unique()"
   ]
  },
  {
   "cell_type": "code",
   "execution_count": 237,
   "metadata": {},
   "outputs": [],
   "source": [
    "model = df['model'].value_counts()"
   ]
  },
  {
   "cell_type": "code",
   "execution_count": 238,
   "metadata": {},
   "outputs": [
    {
     "data": {
      "text/plain": [
       "f-150                       8009\n",
       "silverado 1500              5140\n",
       "1500                        4211\n",
       "camry                       3135\n",
       "silverado                   3023\n",
       "                            ... \n",
       "Huyndai Sante Fe Limited       1\n",
       "astro awd 4x4                  1\n",
       "escalade and                   1\n",
       "cx 3                           1\n",
       "Paige Glenbrook Touring        1\n",
       "Name: model, Length: 29667, dtype: int64"
      ]
     },
     "execution_count": 238,
     "metadata": {},
     "output_type": "execute_result"
    }
   ],
   "source": [
    "model"
   ]
  },
  {
   "cell_type": "code",
   "execution_count": 239,
   "metadata": {},
   "outputs": [],
   "source": [
    "df['model'] = df['model'].apply(lambda s: s if str(s) in model[:50] else 'others')"
   ]
  },
  {
   "cell_type": "code",
   "execution_count": null,
   "metadata": {},
   "outputs": [],
   "source": [
    "for value in df['model'].unique():\n",
    "    print (value)"
   ]
  },
  {
   "cell_type": "code",
   "execution_count": 241,
   "metadata": {},
   "outputs": [
    {
     "name": "stdout",
     "output_type": "stream",
     "text": [
      "region 404\n",
      "price 15655\n",
      "year 114\n",
      "manufacturer 42\n",
      "model 51\n",
      "condition 6\n",
      "cylinders 8\n",
      "fuel 5\n",
      "odometer 104870\n",
      "title_status 6\n",
      "transmission 3\n",
      "drive 3\n",
      "type 13\n",
      "paint_color 12\n",
      "state 51\n"
     ]
    }
   ],
   "source": [
    "for col in df.columns:\n",
    "    print (col, len(df[col].value_counts().index))"
   ]
  },
  {
   "cell_type": "code",
   "execution_count": 242,
   "metadata": {},
   "outputs": [],
   "source": [
    "# save to csv\n",
    "\n",
    "df.to_csv('Data/data_t.csv', index=False)"
   ]
  },
  {
   "cell_type": "code",
   "execution_count": 243,
   "metadata": {},
   "outputs": [
    {
     "data": {
      "text/html": [
       "<div>\n",
       "<style scoped>\n",
       "    .dataframe tbody tr th:only-of-type {\n",
       "        vertical-align: middle;\n",
       "    }\n",
       "\n",
       "    .dataframe tbody tr th {\n",
       "        vertical-align: top;\n",
       "    }\n",
       "\n",
       "    .dataframe thead th {\n",
       "        text-align: right;\n",
       "    }\n",
       "</style>\n",
       "<table border=\"1\" class=\"dataframe\">\n",
       "  <thead>\n",
       "    <tr style=\"text-align: right;\">\n",
       "      <th></th>\n",
       "      <th>region</th>\n",
       "      <th>price</th>\n",
       "      <th>year</th>\n",
       "      <th>manufacturer</th>\n",
       "      <th>model</th>\n",
       "      <th>condition</th>\n",
       "      <th>cylinders</th>\n",
       "      <th>fuel</th>\n",
       "      <th>odometer</th>\n",
       "      <th>title_status</th>\n",
       "      <th>transmission</th>\n",
       "      <th>drive</th>\n",
       "      <th>type</th>\n",
       "      <th>paint_color</th>\n",
       "      <th>state</th>\n",
       "    </tr>\n",
       "  </thead>\n",
       "  <tbody>\n",
       "    <tr>\n",
       "      <th>0</th>\n",
       "      <td>prescott</td>\n",
       "      <td>6000</td>\n",
       "      <td>NaN</td>\n",
       "      <td>NaN</td>\n",
       "      <td>others</td>\n",
       "      <td>NaN</td>\n",
       "      <td>NaN</td>\n",
       "      <td>NaN</td>\n",
       "      <td>NaN</td>\n",
       "      <td>NaN</td>\n",
       "      <td>NaN</td>\n",
       "      <td>NaN</td>\n",
       "      <td>NaN</td>\n",
       "      <td>NaN</td>\n",
       "      <td>az</td>\n",
       "    </tr>\n",
       "    <tr>\n",
       "      <th>1</th>\n",
       "      <td>fayetteville</td>\n",
       "      <td>11900</td>\n",
       "      <td>NaN</td>\n",
       "      <td>NaN</td>\n",
       "      <td>others</td>\n",
       "      <td>NaN</td>\n",
       "      <td>NaN</td>\n",
       "      <td>NaN</td>\n",
       "      <td>NaN</td>\n",
       "      <td>NaN</td>\n",
       "      <td>NaN</td>\n",
       "      <td>NaN</td>\n",
       "      <td>NaN</td>\n",
       "      <td>NaN</td>\n",
       "      <td>ar</td>\n",
       "    </tr>\n",
       "    <tr>\n",
       "      <th>2</th>\n",
       "      <td>florida keys</td>\n",
       "      <td>21000</td>\n",
       "      <td>NaN</td>\n",
       "      <td>NaN</td>\n",
       "      <td>others</td>\n",
       "      <td>NaN</td>\n",
       "      <td>NaN</td>\n",
       "      <td>NaN</td>\n",
       "      <td>NaN</td>\n",
       "      <td>NaN</td>\n",
       "      <td>NaN</td>\n",
       "      <td>NaN</td>\n",
       "      <td>NaN</td>\n",
       "      <td>NaN</td>\n",
       "      <td>fl</td>\n",
       "    </tr>\n",
       "    <tr>\n",
       "      <th>3</th>\n",
       "      <td>worcester / central MA</td>\n",
       "      <td>1500</td>\n",
       "      <td>NaN</td>\n",
       "      <td>NaN</td>\n",
       "      <td>others</td>\n",
       "      <td>NaN</td>\n",
       "      <td>NaN</td>\n",
       "      <td>NaN</td>\n",
       "      <td>NaN</td>\n",
       "      <td>NaN</td>\n",
       "      <td>NaN</td>\n",
       "      <td>NaN</td>\n",
       "      <td>NaN</td>\n",
       "      <td>NaN</td>\n",
       "      <td>ma</td>\n",
       "    </tr>\n",
       "    <tr>\n",
       "      <th>4</th>\n",
       "      <td>greensboro</td>\n",
       "      <td>4900</td>\n",
       "      <td>NaN</td>\n",
       "      <td>NaN</td>\n",
       "      <td>others</td>\n",
       "      <td>NaN</td>\n",
       "      <td>NaN</td>\n",
       "      <td>NaN</td>\n",
       "      <td>NaN</td>\n",
       "      <td>NaN</td>\n",
       "      <td>NaN</td>\n",
       "      <td>NaN</td>\n",
       "      <td>NaN</td>\n",
       "      <td>NaN</td>\n",
       "      <td>nc</td>\n",
       "    </tr>\n",
       "  </tbody>\n",
       "</table>\n",
       "</div>"
      ],
      "text/plain": [
       "                   region  price  year manufacturer   model condition  \\\n",
       "0                prescott   6000   NaN          NaN  others       NaN   \n",
       "1            fayetteville  11900   NaN          NaN  others       NaN   \n",
       "2            florida keys  21000   NaN          NaN  others       NaN   \n",
       "3  worcester / central MA   1500   NaN          NaN  others       NaN   \n",
       "4              greensboro   4900   NaN          NaN  others       NaN   \n",
       "\n",
       "  cylinders fuel  odometer title_status transmission drive type paint_color  \\\n",
       "0       NaN  NaN       NaN          NaN          NaN   NaN  NaN         NaN   \n",
       "1       NaN  NaN       NaN          NaN          NaN   NaN  NaN         NaN   \n",
       "2       NaN  NaN       NaN          NaN          NaN   NaN  NaN         NaN   \n",
       "3       NaN  NaN       NaN          NaN          NaN   NaN  NaN         NaN   \n",
       "4       NaN  NaN       NaN          NaN          NaN   NaN  NaN         NaN   \n",
       "\n",
       "  state  \n",
       "0    az  \n",
       "1    ar  \n",
       "2    fl  \n",
       "3    ma  \n",
       "4    nc  "
      ]
     },
     "execution_count": 243,
     "metadata": {},
     "output_type": "execute_result"
    }
   ],
   "source": [
    "df.head()"
   ]
  },
  {
   "cell_type": "code",
   "execution_count": 258,
   "metadata": {},
   "outputs": [],
   "source": [
    "df = df.dropna(subset=['year', 'odometer'])"
   ]
  },
  {
   "attachments": {},
   "cell_type": "markdown",
   "metadata": {},
   "source": [
    "### Outliers"
   ]
  },
  {
   "cell_type": "code",
   "execution_count": 259,
   "metadata": {},
   "outputs": [
    {
     "data": {
      "text/plain": [
       "0        30759\n",
       "6995      3153\n",
       "7995      3119\n",
       "9995      2847\n",
       "8995      2826\n",
       "         ...  \n",
       "14739        1\n",
       "31721        1\n",
       "3496         1\n",
       "3896         1\n",
       "17873        1\n",
       "Name: price, Length: 15508, dtype: int64"
      ]
     },
     "execution_count": 259,
     "metadata": {},
     "output_type": "execute_result"
    }
   ],
   "source": [
    "df['price'].value_counts()"
   ]
  },
  {
   "cell_type": "code",
   "execution_count": 260,
   "metadata": {},
   "outputs": [],
   "source": [
    "rr=sorted(df[\"price\"])"
   ]
  },
  {
   "cell_type": "code",
   "execution_count": 261,
   "metadata": {},
   "outputs": [
    {
     "name": "stdout",
     "output_type": "stream",
     "text": [
      "700.0 37500.0\n"
     ]
    }
   ],
   "source": [
    "quantile1, quantile3= np.percentile(rr,[10,90])\n",
    "print(quantile1, quantile3)"
   ]
  },
  {
   "cell_type": "code",
   "execution_count": 263,
   "metadata": {},
   "outputs": [
    {
     "data": {
      "text/plain": [
       "(337079, 15)"
      ]
     },
     "execution_count": 263,
     "metadata": {},
     "output_type": "execute_result"
    }
   ],
   "source": [
    "# drop outliers using price\n",
    "df=df[(df.price < 37500) & (df.price >= 700 )]\n",
    "df.shape"
   ]
  },
  {
   "cell_type": "code",
   "execution_count": 244,
   "metadata": {},
   "outputs": [
    {
     "data": {
      "text/plain": [
       "6 cylinders     94169\n",
       "4 cylinders     77642\n",
       "8 cylinders     72062\n",
       "5 cylinders      1712\n",
       "10 cylinders     1455\n",
       "other            1298\n",
       "3 cylinders       655\n",
       "12 cylinders      209\n",
       "Name: cylinders, dtype: int64"
      ]
     },
     "execution_count": 244,
     "metadata": {},
     "output_type": "execute_result"
    }
   ],
   "source": [
    "df['cylinders'].value_counts()"
   ]
  },
  {
   "cell_type": "code",
   "execution_count": 245,
   "metadata": {},
   "outputs": [],
   "source": [
    "# remove text from cylinders column\n",
    "df['cylinders'] = df['cylinders'].str.extract('(\\d+)').astype(float)"
   ]
  },
  {
   "cell_type": "code",
   "execution_count": 246,
   "metadata": {},
   "outputs": [
    {
     "data": {
      "text/plain": [
       "6.0     94169\n",
       "4.0     77642\n",
       "8.0     72062\n",
       "5.0      1712\n",
       "10.0     1455\n",
       "3.0       655\n",
       "12.0      209\n",
       "Name: cylinders, dtype: int64"
      ]
     },
     "execution_count": 246,
     "metadata": {},
     "output_type": "execute_result"
    }
   ],
   "source": [
    "df['cylinders'].value_counts()"
   ]
  },
  {
   "cell_type": "code",
   "execution_count": 247,
   "metadata": {},
   "outputs": [
    {
     "data": {
      "text/plain": [
       "gas         356209\n",
       "other        30728\n",
       "diesel       30062\n",
       "hybrid        5170\n",
       "electric      1698\n",
       "Name: fuel, dtype: int64"
      ]
     },
     "execution_count": 247,
     "metadata": {},
     "output_type": "execute_result"
    }
   ],
   "source": [
    "df['fuel'].value_counts()"
   ]
  },
  {
   "cell_type": "code",
   "execution_count": 248,
   "metadata": {},
   "outputs": [
    {
     "data": {
      "text/plain": [
       "100000.0    2263\n",
       "1.0         2246\n",
       "0.0         1965\n",
       "200000.0    1728\n",
       "150000.0    1603\n",
       "            ... \n",
       "149468.0       1\n",
       "154259.0       1\n",
       "111887.0       1\n",
       "213826.0       1\n",
       "26892.0        1\n",
       "Name: odometer, Length: 104870, dtype: int64"
      ]
     },
     "execution_count": 248,
     "metadata": {},
     "output_type": "execute_result"
    }
   ],
   "source": [
    "df['odometer'].value_counts()"
   ]
  },
  {
   "cell_type": "code",
   "execution_count": 268,
   "metadata": {},
   "outputs": [
    {
     "data": {
      "text/plain": [
       "0"
      ]
     },
     "execution_count": 268,
     "metadata": {},
     "output_type": "execute_result"
    }
   ],
   "source": [
    "df[\"odometer\"].isna().sum()"
   ]
  },
  {
   "cell_type": "code",
   "execution_count": 269,
   "metadata": {},
   "outputs": [
    {
     "data": {
      "text/plain": [
       "151740    10000000.0\n",
       "28738     10000000.0\n",
       "413267    10000000.0\n",
       "260971    10000000.0\n",
       "67001     10000000.0\n",
       "292399    10000000.0\n",
       "305172    10000000.0\n",
       "172766    10000000.0\n",
       "208157    10000000.0\n",
       "340694    10000000.0\n",
       "Name: odometer, dtype: float64"
      ]
     },
     "execution_count": 269,
     "metadata": {},
     "output_type": "execute_result"
    }
   ],
   "source": [
    "df[\"odometer\"].sort_values(ascending=False).head(10)"
   ]
  },
  {
   "cell_type": "code",
   "execution_count": 270,
   "metadata": {},
   "outputs": [
    {
     "data": {
      "text/plain": [
       "<Axes: xlabel='odometer', ylabel='price'>"
      ]
     },
     "execution_count": 270,
     "metadata": {},
     "output_type": "execute_result"
    },
    {
     "data": {
      "image/png": "[encoded data removed]",
      "text/plain": [
       "<Figure size 720x360 with 1 Axes>"
      ]
     },
     "metadata": {
      "needs_background": "light"
     },
     "output_type": "display_data"
    }
   ],
   "source": [
    "# scatter plot of odometer\n",
    "df.plot.scatter(x='odometer', y='price', figsize=(10,5))"
   ]
  },
  {
   "cell_type": "code",
   "execution_count": 271,
   "metadata": {},
   "outputs": [
    {
     "data": {
      "text/plain": [
       "count    3.370790e+05\n",
       "mean     1.049950e+05\n",
       "std      1.973294e+05\n",
       "min      0.000000e+00\n",
       "25%      4.627500e+04\n",
       "50%      9.576800e+04\n",
       "75%      1.412155e+05\n",
       "max      1.000000e+07\n",
       "Name: odometer, dtype: float64"
      ]
     },
     "execution_count": 271,
     "metadata": {},
     "output_type": "execute_result"
    }
   ],
   "source": [
    "df['odometer'].describe()"
   ]
  },
  {
   "cell_type": "code",
   "execution_count": 272,
   "metadata": {},
   "outputs": [],
   "source": [
    "df.drop(df[df[\"odometer\"]>=64809218.0].index,inplace=True)\n",
    "df.drop(df[df[\"odometer\"]==0.0].index,inplace=True)"
   ]
  },
  {
   "cell_type": "code",
   "execution_count": 273,
   "metadata": {},
   "outputs": [
    {
     "data": {
      "text/plain": [
       "<Axes: xlabel='odometer', ylabel='price'>"
      ]
     },
     "execution_count": 273,
     "metadata": {},
     "output_type": "execute_result"
    },
    {
     "data": {
      "image/png": "[encoded data removed]",
      "text/plain": [
       "<Figure size 720x360 with 1 Axes>"
      ]
     },
     "metadata": {
      "needs_background": "light"
     },
     "output_type": "display_data"
    }
   ],
   "source": [
    "df.plot.scatter(x='odometer', y='price', figsize=(10,5))"
   ]
  },
  {
   "attachments": {},
   "cell_type": "markdown",
   "metadata": {},
   "source": [
    "`In reality, values for odometer above 300K Miles can be considered as outliers. \n",
    "We will remove these values from the dataset.`"
   ]
  },
  {
   "cell_type": "code",
   "execution_count": 275,
   "metadata": {},
   "outputs": [],
   "source": [
    "# remove outliers\n",
    "df=df[(df.odometer < 3000000)]"
   ]
  },
  {
   "cell_type": "code",
   "execution_count": 276,
   "metadata": {},
   "outputs": [
    {
     "data": {
      "text/plain": [
       "0"
      ]
     },
     "execution_count": 276,
     "metadata": {},
     "output_type": "execute_result"
    }
   ],
   "source": [
    "df['odometer'].isna().sum()"
   ]
  },
  {
   "cell_type": "code",
   "execution_count": 278,
   "metadata": {},
   "outputs": [
    {
     "data": {
      "text/plain": [
       "<Axes: xlabel='odometer', ylabel='price'>"
      ]
     },
     "execution_count": 278,
     "metadata": {},
     "output_type": "execute_result"
    },
    {
     "data": {
      "image/png": "[encoded data removed]",
      "text/plain": [
       "<Figure size 720x360 with 1 Axes>"
      ]
     },
     "metadata": {
      "needs_background": "light"
     },
     "output_type": "display_data"
    }
   ],
   "source": [
    "df.plot.scatter(x='odometer', y='price', figsize=(10,5))"
   ]
  },
  {
   "cell_type": "code",
   "execution_count": 277,
   "metadata": {},
   "outputs": [
    {
     "data": {
      "text/plain": [
       "(335984, 15)"
      ]
     },
     "execution_count": 277,
     "metadata": {},
     "output_type": "execute_result"
    }
   ],
   "source": [
    "df.shape"
   ]
  },
  {
   "cell_type": "code",
   "execution_count": 210,
   "metadata": {},
   "outputs": [
    {
     "name": "stdout",
     "output_type": "stream",
     "text": [
      "region 404\n",
      "price 15476\n",
      "year 111\n",
      "manufacturer 42\n",
      "model 51\n",
      "condition 6\n",
      "cylinders 7\n",
      "fuel 5\n",
      "odometer 103448\n",
      "title_status 6\n",
      "transmission 3\n",
      "drive 3\n",
      "type 13\n",
      "paint_color 12\n",
      "state 51\n",
      "Age 111\n"
     ]
    }
   ],
   "source": [
    "for col in df.columns:\n",
    "    print (col, len(df[col].value_counts().index))"
   ]
  },
  {
   "attachments": {},
   "cell_type": "markdown",
   "metadata": {},
   "source": [
    "##### Year Column"
   ]
  },
  {
   "cell_type": "code",
   "execution_count": 280,
   "metadata": {},
   "outputs": [],
   "source": [
    "import matplotlib.pyplot as plt\n",
    "import seaborn as sns"
   ]
  },
  {
   "cell_type": "code",
   "execution_count": 281,
   "metadata": {},
   "outputs": [
    {
     "data": {
      "image/png": "[encoded data removed]",
      "text/plain": [
       "<Figure size 432x288 with 1 Axes>"
      ]
     },
     "metadata": {
      "needs_background": "light"
     },
     "output_type": "display_data"
    }
   ],
   "source": [
    "bx = sns.scatterplot(x=\"year\", y=\"price\", data=df)"
   ]
  },
  {
   "cell_type": "code",
   "execution_count": 282,
   "metadata": {},
   "outputs": [],
   "source": [
    "# remove outliers take year > 1940\n",
    "df=df[(df.year > 1940)]"
   ]
  },
  {
   "attachments": {},
   "cell_type": "markdown",
   "metadata": {},
   "source": []
  },
  {
   "cell_type": "code",
   "execution_count": null,
   "metadata": {},
   "outputs": [],
   "source": []
  },
  {
   "attachments": {},
   "cell_type": "markdown",
   "metadata": {},
   "source": [
    "### Missing Values"
   ]
  },
  {
   "cell_type": "code",
   "execution_count": 211,
   "metadata": {},
   "outputs": [
    {
     "data": {
      "text/plain": [
       "clean         397542\n",
       "rebuilt         7075\n",
       "salvage         3797\n",
       "lien            1407\n",
       "missing          753\n",
       "parts only       174\n",
       "Name: title_status, dtype: int64"
      ]
     },
     "execution_count": 211,
     "metadata": {},
     "output_type": "execute_result"
    }
   ],
   "source": [
    "df['title_status'].value_counts()"
   ]
  },
  {
   "cell_type": "code",
   "execution_count": 213,
   "metadata": {},
   "outputs": [
    {
     "data": {
      "text/plain": [
       "automatic    329944\n",
       "other         62552\n",
       "manual        23932\n",
       "Name: transmission, dtype: int64"
      ]
     },
     "execution_count": 213,
     "metadata": {},
     "output_type": "execute_result"
    }
   ],
   "source": [
    "df['transmission'].value_counts()"
   ]
  },
  {
   "cell_type": "code",
   "execution_count": 214,
   "metadata": {},
   "outputs": [
    {
     "data": {
      "text/plain": [
       "4wd    129594\n",
       "fwd    103724\n",
       "rwd     57467\n",
       "Name: drive, dtype: int64"
      ]
     },
     "execution_count": 214,
     "metadata": {},
     "output_type": "execute_result"
    }
   ],
   "source": [
    "df['drive'].value_counts()"
   ]
  },
  {
   "cell_type": "code",
   "execution_count": 215,
   "metadata": {},
   "outputs": [
    {
     "data": {
      "text/plain": [
       "count    418100.000000\n",
       "mean         11.696228\n",
       "std           9.358994\n",
       "min           1.000000\n",
       "25%           6.000000\n",
       "50%           9.000000\n",
       "75%          15.000000\n",
       "max         123.000000\n",
       "Name: Age, dtype: float64"
      ]
     },
     "execution_count": 215,
     "metadata": {},
     "output_type": "execute_result"
    }
   ],
   "source": [
    "# age \n",
    "df['Age'].describe()"
   ]
  },
  {
   "cell_type": "code",
   "execution_count": 284,
   "metadata": {},
   "outputs": [
    {
     "data": {
      "text/html": [
       "<div>\n",
       "<style scoped>\n",
       "    .dataframe tbody tr th:only-of-type {\n",
       "        vertical-align: middle;\n",
       "    }\n",
       "\n",
       "    .dataframe tbody tr th {\n",
       "        vertical-align: top;\n",
       "    }\n",
       "\n",
       "    .dataframe thead th {\n",
       "        text-align: right;\n",
       "    }\n",
       "</style>\n",
       "<table border=\"1\" class=\"dataframe\">\n",
       "  <thead>\n",
       "    <tr style=\"text-align: right;\">\n",
       "      <th></th>\n",
       "      <th>null</th>\n",
       "      <th>percent</th>\n",
       "    </tr>\n",
       "  </thead>\n",
       "  <tbody>\n",
       "    <tr>\n",
       "      <th>cylinders</th>\n",
       "      <td>13561400</td>\n",
       "      <td>40.433</td>\n",
       "    </tr>\n",
       "    <tr>\n",
       "      <th>condition</th>\n",
       "      <td>12157900</td>\n",
       "      <td>36.249</td>\n",
       "    </tr>\n",
       "    <tr>\n",
       "      <th>drive</th>\n",
       "      <td>10286700</td>\n",
       "      <td>30.670</td>\n",
       "    </tr>\n",
       "    <tr>\n",
       "      <th>paint_color</th>\n",
       "      <td>9629600</td>\n",
       "      <td>28.711</td>\n",
       "    </tr>\n",
       "    <tr>\n",
       "      <th>type</th>\n",
       "      <td>7335400</td>\n",
       "      <td>21.871</td>\n",
       "    </tr>\n",
       "    <tr>\n",
       "      <th>title_status</th>\n",
       "      <td>546200</td>\n",
       "      <td>1.628</td>\n",
       "    </tr>\n",
       "    <tr>\n",
       "      <th>fuel</th>\n",
       "      <td>193200</td>\n",
       "      <td>0.576</td>\n",
       "    </tr>\n",
       "    <tr>\n",
       "      <th>transmission</th>\n",
       "      <td>128800</td>\n",
       "      <td>0.384</td>\n",
       "    </tr>\n",
       "    <tr>\n",
       "      <th>region</th>\n",
       "      <td>0</td>\n",
       "      <td>0.000</td>\n",
       "    </tr>\n",
       "    <tr>\n",
       "      <th>price</th>\n",
       "      <td>0</td>\n",
       "      <td>0.000</td>\n",
       "    </tr>\n",
       "    <tr>\n",
       "      <th>year</th>\n",
       "      <td>0</td>\n",
       "      <td>0.000</td>\n",
       "    </tr>\n",
       "    <tr>\n",
       "      <th>manufacturer</th>\n",
       "      <td>0</td>\n",
       "      <td>0.000</td>\n",
       "    </tr>\n",
       "    <tr>\n",
       "      <th>model</th>\n",
       "      <td>0</td>\n",
       "      <td>0.000</td>\n",
       "    </tr>\n",
       "    <tr>\n",
       "      <th>odometer</th>\n",
       "      <td>0</td>\n",
       "      <td>0.000</td>\n",
       "    </tr>\n",
       "    <tr>\n",
       "      <th>state</th>\n",
       "      <td>0</td>\n",
       "      <td>0.000</td>\n",
       "    </tr>\n",
       "  </tbody>\n",
       "</table>\n",
       "</div>"
      ],
      "text/plain": [
       "                  null  percent\n",
       "cylinders     13561400   40.433\n",
       "condition     12157900   36.249\n",
       "drive         10286700   30.670\n",
       "paint_color    9629600   28.711\n",
       "type           7335400   21.871\n",
       "title_status    546200    1.628\n",
       "fuel            193200    0.576\n",
       "transmission    128800    0.384\n",
       "region               0    0.000\n",
       "price                0    0.000\n",
       "year                 0    0.000\n",
       "manufacturer         0    0.000\n",
       "model                0    0.000\n",
       "odometer             0    0.000\n",
       "state                0    0.000"
      ]
     },
     "execution_count": 284,
     "metadata": {},
     "output_type": "execute_result"
    }
   ],
   "source": [
    "null_values=df.isnull().sum()\n",
    "null_values=pd.DataFrame(null_values,columns=['null'])\n",
    "j=1\n",
    "sum_tot=len(df)\n",
    "null_values['percent']=null_values['null']/sum_tot\n",
    "round(null_values*100,3).sort_values('percent',ascending=False)"
   ]
  },
  {
   "attachments": {},
   "cell_type": "markdown",
   "metadata": {},
   "source": [
    "# Handling Missing Values"
   ]
  },
  {
   "cell_type": "code",
   "execution_count": 126,
   "metadata": {},
   "outputs": [
    {
     "data": {
      "text/plain": [
       "good         104087\n",
       "excellent     92569\n",
       "like new      19110\n",
       "fair           4645\n",
       "new             653\n",
       "salvage         171\n",
       "Name: condition, dtype: int64"
      ]
     },
     "execution_count": 126,
     "metadata": {},
     "output_type": "execute_result"
    }
   ],
   "source": [
    "df['condition'].value_counts()"
   ]
  },
  {
   "cell_type": "code",
   "execution_count": 294,
   "metadata": {},
   "outputs": [],
   "source": [
    "# min and max odometer where condition is good\n",
    "temp = df[df['condition']=='good']['odometer']"
   ]
  },
  {
   "cell_type": "code",
   "execution_count": 299,
   "metadata": {},
   "outputs": [
    {
     "data": {
      "image/png": "[encoded data removed]",
      "text/plain": [
       "<Figure size 432x288 with 1 Axes>"
      ]
     },
     "metadata": {
      "needs_background": "light"
     },
     "output_type": "display_data"
    }
   ],
   "source": [
    "# plot price vs odometer of good condition\n",
    "plt.scatter(temp, df[df['condition']=='good']['price'])\n",
    "plt.show()"
   ]
  },
  {
   "cell_type": "code",
   "execution_count": 285,
   "metadata": {},
   "outputs": [],
   "source": [
    "# Condition and Odometer"
   ]
  },
  {
   "cell_type": "code",
   "execution_count": 301,
   "metadata": {},
   "outputs": [
    {
     "data": {
      "text/html": [
       "<div>\n",
       "<style scoped>\n",
       "    .dataframe tbody tr th:only-of-type {\n",
       "        vertical-align: middle;\n",
       "    }\n",
       "\n",
       "    .dataframe tbody tr th {\n",
       "        vertical-align: top;\n",
       "    }\n",
       "\n",
       "    .dataframe thead th {\n",
       "        text-align: right;\n",
       "    }\n",
       "</style>\n",
       "<table border=\"1\" class=\"dataframe\">\n",
       "  <thead>\n",
       "    <tr style=\"text-align: right;\">\n",
       "      <th></th>\n",
       "      <th>region</th>\n",
       "      <th>price</th>\n",
       "      <th>year</th>\n",
       "      <th>manufacturer</th>\n",
       "      <th>model</th>\n",
       "      <th>condition</th>\n",
       "      <th>cylinders</th>\n",
       "      <th>fuel</th>\n",
       "      <th>odometer</th>\n",
       "      <th>title_status</th>\n",
       "      <th>transmission</th>\n",
       "      <th>drive</th>\n",
       "      <th>type</th>\n",
       "      <th>paint_color</th>\n",
       "      <th>state</th>\n",
       "    </tr>\n",
       "  </thead>\n",
       "  <tbody>\n",
       "    <tr>\n",
       "      <th>27</th>\n",
       "      <td>others</td>\n",
       "      <td>33590</td>\n",
       "      <td>2014.0</td>\n",
       "      <td>gmc</td>\n",
       "      <td>others</td>\n",
       "      <td>good</td>\n",
       "      <td>8.0</td>\n",
       "      <td>gas</td>\n",
       "      <td>57923.0</td>\n",
       "      <td>clean</td>\n",
       "      <td>other</td>\n",
       "      <td>NaN</td>\n",
       "      <td>pickup</td>\n",
       "      <td>white</td>\n",
       "      <td>al</td>\n",
       "    </tr>\n",
       "    <tr>\n",
       "      <th>28</th>\n",
       "      <td>others</td>\n",
       "      <td>22590</td>\n",
       "      <td>2010.0</td>\n",
       "      <td>chevrolet</td>\n",
       "      <td>silverado 1500</td>\n",
       "      <td>good</td>\n",
       "      <td>8.0</td>\n",
       "      <td>gas</td>\n",
       "      <td>71229.0</td>\n",
       "      <td>clean</td>\n",
       "      <td>other</td>\n",
       "      <td>NaN</td>\n",
       "      <td>pickup</td>\n",
       "      <td>blue</td>\n",
       "      <td>al</td>\n",
       "    </tr>\n",
       "    <tr>\n",
       "      <th>30</th>\n",
       "      <td>others</td>\n",
       "      <td>30990</td>\n",
       "      <td>2017.0</td>\n",
       "      <td>toyota</td>\n",
       "      <td>others</td>\n",
       "      <td>good</td>\n",
       "      <td>8.0</td>\n",
       "      <td>gas</td>\n",
       "      <td>41124.0</td>\n",
       "      <td>clean</td>\n",
       "      <td>other</td>\n",
       "      <td>NaN</td>\n",
       "      <td>pickup</td>\n",
       "      <td>red</td>\n",
       "      <td>al</td>\n",
       "    </tr>\n",
       "    <tr>\n",
       "      <th>31</th>\n",
       "      <td>others</td>\n",
       "      <td>15000</td>\n",
       "      <td>2013.0</td>\n",
       "      <td>ford</td>\n",
       "      <td>others</td>\n",
       "      <td>excellent</td>\n",
       "      <td>6.0</td>\n",
       "      <td>gas</td>\n",
       "      <td>128000.0</td>\n",
       "      <td>clean</td>\n",
       "      <td>automatic</td>\n",
       "      <td>rwd</td>\n",
       "      <td>truck</td>\n",
       "      <td>black</td>\n",
       "      <td>al</td>\n",
       "    </tr>\n",
       "    <tr>\n",
       "      <th>32</th>\n",
       "      <td>others</td>\n",
       "      <td>27990</td>\n",
       "      <td>2012.0</td>\n",
       "      <td>gmc</td>\n",
       "      <td>others</td>\n",
       "      <td>good</td>\n",
       "      <td>8.0</td>\n",
       "      <td>gas</td>\n",
       "      <td>68696.0</td>\n",
       "      <td>clean</td>\n",
       "      <td>other</td>\n",
       "      <td>4wd</td>\n",
       "      <td>pickup</td>\n",
       "      <td>black</td>\n",
       "      <td>al</td>\n",
       "    </tr>\n",
       "    <tr>\n",
       "      <th>...</th>\n",
       "      <td>...</td>\n",
       "      <td>...</td>\n",
       "      <td>...</td>\n",
       "      <td>...</td>\n",
       "      <td>...</td>\n",
       "      <td>...</td>\n",
       "      <td>...</td>\n",
       "      <td>...</td>\n",
       "      <td>...</td>\n",
       "      <td>...</td>\n",
       "      <td>...</td>\n",
       "      <td>...</td>\n",
       "      <td>...</td>\n",
       "      <td>...</td>\n",
       "      <td>...</td>\n",
       "    </tr>\n",
       "    <tr>\n",
       "      <th>426875</th>\n",
       "      <td>others</td>\n",
       "      <td>23590</td>\n",
       "      <td>2019.0</td>\n",
       "      <td>nissan</td>\n",
       "      <td>others</td>\n",
       "      <td>good</td>\n",
       "      <td>6.0</td>\n",
       "      <td>gas</td>\n",
       "      <td>32226.0</td>\n",
       "      <td>clean</td>\n",
       "      <td>other</td>\n",
       "      <td>fwd</td>\n",
       "      <td>sedan</td>\n",
       "      <td>NaN</td>\n",
       "      <td>wy</td>\n",
       "    </tr>\n",
       "    <tr>\n",
       "      <th>426876</th>\n",
       "      <td>others</td>\n",
       "      <td>30590</td>\n",
       "      <td>2020.0</td>\n",
       "      <td>others</td>\n",
       "      <td>others</td>\n",
       "      <td>good</td>\n",
       "      <td>NaN</td>\n",
       "      <td>gas</td>\n",
       "      <td>12029.0</td>\n",
       "      <td>clean</td>\n",
       "      <td>other</td>\n",
       "      <td>fwd</td>\n",
       "      <td>sedan</td>\n",
       "      <td>red</td>\n",
       "      <td>wy</td>\n",
       "    </tr>\n",
       "    <tr>\n",
       "      <th>426877</th>\n",
       "      <td>others</td>\n",
       "      <td>34990</td>\n",
       "      <td>2020.0</td>\n",
       "      <td>cadillac</td>\n",
       "      <td>others</td>\n",
       "      <td>good</td>\n",
       "      <td>NaN</td>\n",
       "      <td>diesel</td>\n",
       "      <td>4174.0</td>\n",
       "      <td>clean</td>\n",
       "      <td>other</td>\n",
       "      <td>NaN</td>\n",
       "      <td>hatchback</td>\n",
       "      <td>white</td>\n",
       "      <td>wy</td>\n",
       "    </tr>\n",
       "    <tr>\n",
       "      <th>426878</th>\n",
       "      <td>others</td>\n",
       "      <td>28990</td>\n",
       "      <td>2018.0</td>\n",
       "      <td>lexus</td>\n",
       "      <td>others</td>\n",
       "      <td>good</td>\n",
       "      <td>6.0</td>\n",
       "      <td>gas</td>\n",
       "      <td>30112.0</td>\n",
       "      <td>clean</td>\n",
       "      <td>other</td>\n",
       "      <td>fwd</td>\n",
       "      <td>sedan</td>\n",
       "      <td>silver</td>\n",
       "      <td>wy</td>\n",
       "    </tr>\n",
       "    <tr>\n",
       "      <th>426879</th>\n",
       "      <td>others</td>\n",
       "      <td>30590</td>\n",
       "      <td>2019.0</td>\n",
       "      <td>bmw</td>\n",
       "      <td>others</td>\n",
       "      <td>good</td>\n",
       "      <td>NaN</td>\n",
       "      <td>gas</td>\n",
       "      <td>22716.0</td>\n",
       "      <td>clean</td>\n",
       "      <td>other</td>\n",
       "      <td>rwd</td>\n",
       "      <td>coupe</td>\n",
       "      <td>NaN</td>\n",
       "      <td>wy</td>\n",
       "    </tr>\n",
       "  </tbody>\n",
       "</table>\n",
       "<p>335267 rows × 15 columns</p>\n",
       "</div>"
      ],
      "text/plain": [
       "        region  price    year manufacturer           model  condition  \\\n",
       "27      others  33590  2014.0          gmc          others       good   \n",
       "28      others  22590  2010.0    chevrolet  silverado 1500       good   \n",
       "30      others  30990  2017.0       toyota          others       good   \n",
       "31      others  15000  2013.0         ford          others  excellent   \n",
       "32      others  27990  2012.0          gmc          others       good   \n",
       "...        ...    ...     ...          ...             ...        ...   \n",
       "426875  others  23590  2019.0       nissan          others       good   \n",
       "426876  others  30590  2020.0       others          others       good   \n",
       "426877  others  34990  2020.0     cadillac          others       good   \n",
       "426878  others  28990  2018.0        lexus          others       good   \n",
       "426879  others  30590  2019.0          bmw          others       good   \n",
       "\n",
       "        cylinders    fuel  odometer title_status transmission drive  \\\n",
       "27            8.0     gas   57923.0        clean        other   NaN   \n",
       "28            8.0     gas   71229.0        clean        other   NaN   \n",
       "30            8.0     gas   41124.0        clean        other   NaN   \n",
       "31            6.0     gas  128000.0        clean    automatic   rwd   \n",
       "32            8.0     gas   68696.0        clean        other   4wd   \n",
       "...           ...     ...       ...          ...          ...   ...   \n",
       "426875        6.0     gas   32226.0        clean        other   fwd   \n",
       "426876        NaN     gas   12029.0        clean        other   fwd   \n",
       "426877        NaN  diesel    4174.0        clean        other   NaN   \n",
       "426878        6.0     gas   30112.0        clean        other   fwd   \n",
       "426879        NaN     gas   22716.0        clean        other   rwd   \n",
       "\n",
       "             type paint_color state  \n",
       "27         pickup       white    al  \n",
       "28         pickup        blue    al  \n",
       "30         pickup         red    al  \n",
       "31          truck       black    al  \n",
       "32         pickup       black    al  \n",
       "...           ...         ...   ...  \n",
       "426875      sedan         NaN    wy  \n",
       "426876      sedan         red    wy  \n",
       "426877  hatchback       white    wy  \n",
       "426878      sedan      silver    wy  \n",
       "426879      coupe         NaN    wy  \n",
       "\n",
       "[335267 rows x 15 columns]"
      ]
     },
     "execution_count": 301,
     "metadata": {},
     "output_type": "execute_result"
    }
   ],
   "source": [
    "# drop rows where condition is good and odometer is less than 10\n",
    "df.drop(df[(df['condition']=='good') & (df['odometer']<10)].index)"
   ]
  },
  {
   "cell_type": "code",
   "execution_count": 317,
   "metadata": {},
   "outputs": [],
   "source": [
    "excellent_odo_mean = df[df['condition'] == 'excellent']['odometer'].mean()\n",
    "good_odo_mean = df[df['condition'] == 'good']['odometer'].mean()\n",
    "like_new_odo_mean = df[df['condition'] == 'like new']['odometer'].mean()\n",
    "salvage_odo_mean = df[df['condition'] == 'salvage']['odometer'].mean()\n",
    "fair_odo_mean = df[df['condition'] == 'fair']['odometer'].mean()"
   ]
  },
  {
   "cell_type": "code",
   "execution_count": 318,
   "metadata": {},
   "outputs": [
    {
     "name": "stdout",
     "output_type": "stream",
     "text": [
      "Like new average odometer: 63211.15\n",
      "Excellent average odometer: 109543.23\n",
      "Good average odometer: 95313.64\n",
      "Fair average odometer: 210162.07\n",
      "Salvage average odometer: 160785.51\n"
     ]
    }
   ],
   "source": [
    "print('Like new average odometer:', round( like_new_odo_mean,2))\n",
    "print('Excellent average odometer:', round( excellent_odo_mean,2))\n",
    "print('Good average odometer:', round( good_odo_mean,2))\n",
    "print('Fair average odometer:', round( fair_odo_mean,2))\n",
    "print('Salvage average odometer:', round( salvage_odo_mean,2))"
   ]
  },
  {
   "attachments": {},
   "cell_type": "markdown",
   "metadata": {},
   "source": [
    "`fill missing values with mean column values`"
   ]
  },
  {
   "cell_type": "code",
   "execution_count": 327,
   "metadata": {},
   "outputs": [],
   "source": [
    "# for all null values in condition when age is less than 4, set condition to new\n",
    "df.loc[df.year>=2019, 'condition'] = df.loc[df.year>=2019, 'condition'].fillna('new')"
   ]
  },
  {
   "cell_type": "code",
   "execution_count": 328,
   "metadata": {},
   "outputs": [],
   "source": [
    "# like new\n",
    "df.loc[df['odometer'] <= like_new_odo_mean, 'condition'] = df.loc[df['odometer'] <= like_new_odo_mean, 'condition'].fillna('like new')"
   ]
  },
  {
   "cell_type": "code",
   "execution_count": 329,
   "metadata": {},
   "outputs": [],
   "source": [
    "# fair condition\n",
    "df.loc[df['odometer'] >= fair_odo_mean, 'condition'] = df.loc[df['odometer'] >= fair_odo_mean, 'condition'].fillna('fair')"
   ]
  },
  {
   "cell_type": "code",
   "execution_count": 335,
   "metadata": {},
   "outputs": [],
   "source": [
    "df.loc[((df['odometer'] > good_odo_mean) & \n",
    "       (df['odometer'] <= fair_odo_mean)), 'condition'] = df.loc[((df['odometer'] > good_odo_mean) & \n",
    "       (df['odometer'] <= fair_odo_mean)), 'condition'].fillna('salvage')"
   ]
  },
  {
   "cell_type": "code",
   "execution_count": 330,
   "metadata": {},
   "outputs": [],
   "source": [
    "# excellent condition\n",
    "df.loc[((df['odometer'] > good_odo_mean) &\n",
    "         (df['odometer'] <= excellent_odo_mean)), 'condition'] = df.loc[((df['odometer'] > good_odo_mean) &\n",
    "            (df['odometer'] <= excellent_odo_mean)), 'condition'].fillna('excellent')"
   ]
  },
  {
   "cell_type": "code",
   "execution_count": 336,
   "metadata": {},
   "outputs": [
    {
     "data": {
      "text/plain": [
       "0"
      ]
     },
     "execution_count": 336,
     "metadata": {},
     "output_type": "execute_result"
    }
   ],
   "source": [
    "df.condition.isnull().sum()"
   ]
  },
  {
   "cell_type": "code",
   "execution_count": 332,
   "metadata": {},
   "outputs": [],
   "source": [
    "# fill remaining null values by these conditions:\n",
    "# good condition for year between 2010 and 2018 and odometer between 111734.77 and 176653.53\n",
    "df.loc[((df['year'] >= 2010) & (df['year'] <= 2018) &\n",
    "        (df['odometer'] > 111734.77) & (df['odometer'] <= 176653.53)), 'condition'] = df.loc[((df['year'] >= 2010) & (df['year'] <= 2018) &\n",
    "        (df['odometer'] > 111734.77) & (df['odometer'] <= 176653.53)), 'condition'].fillna('good')\n",
    "\n"
   ]
  },
  {
   "cell_type": "code",
   "execution_count": null,
   "metadata": {},
   "outputs": [],
   "source": []
  },
  {
   "cell_type": "code",
   "execution_count": 333,
   "metadata": {},
   "outputs": [],
   "source": [
    "# good condition\n",
    "df.loc[((df['odometer'] > like_new_odo_mean) & \n",
    "       (df['odometer'] <= good_odo_mean)), 'condition'] = df.loc[((df['odometer'] > like_new_odo_mean) & \n",
    "       (df['odometer'] <= good_odo_mean)), 'condition'].fillna('good')"
   ]
  },
  {
   "cell_type": "code",
   "execution_count": 339,
   "metadata": {},
   "outputs": [
    {
     "data": {
      "text/html": [
       "<div>\n",
       "<style scoped>\n",
       "    .dataframe tbody tr th:only-of-type {\n",
       "        vertical-align: middle;\n",
       "    }\n",
       "\n",
       "    .dataframe tbody tr th {\n",
       "        vertical-align: top;\n",
       "    }\n",
       "\n",
       "    .dataframe thead th {\n",
       "        text-align: right;\n",
       "    }\n",
       "</style>\n",
       "<table border=\"1\" class=\"dataframe\">\n",
       "  <thead>\n",
       "    <tr style=\"text-align: right;\">\n",
       "      <th></th>\n",
       "      <th>null</th>\n",
       "      <th>percent</th>\n",
       "    </tr>\n",
       "  </thead>\n",
       "  <tbody>\n",
       "    <tr>\n",
       "      <th>drive</th>\n",
       "      <td>300</td>\n",
       "      <td>0.001</td>\n",
       "    </tr>\n",
       "    <tr>\n",
       "      <th>region</th>\n",
       "      <td>0</td>\n",
       "      <td>0.000</td>\n",
       "    </tr>\n",
       "    <tr>\n",
       "      <th>price</th>\n",
       "      <td>0</td>\n",
       "      <td>0.000</td>\n",
       "    </tr>\n",
       "    <tr>\n",
       "      <th>year</th>\n",
       "      <td>0</td>\n",
       "      <td>0.000</td>\n",
       "    </tr>\n",
       "    <tr>\n",
       "      <th>manufacturer</th>\n",
       "      <td>0</td>\n",
       "      <td>0.000</td>\n",
       "    </tr>\n",
       "    <tr>\n",
       "      <th>model</th>\n",
       "      <td>0</td>\n",
       "      <td>0.000</td>\n",
       "    </tr>\n",
       "    <tr>\n",
       "      <th>condition</th>\n",
       "      <td>0</td>\n",
       "      <td>0.000</td>\n",
       "    </tr>\n",
       "    <tr>\n",
       "      <th>cylinders</th>\n",
       "      <td>0</td>\n",
       "      <td>0.000</td>\n",
       "    </tr>\n",
       "    <tr>\n",
       "      <th>fuel</th>\n",
       "      <td>0</td>\n",
       "      <td>0.000</td>\n",
       "    </tr>\n",
       "    <tr>\n",
       "      <th>odometer</th>\n",
       "      <td>0</td>\n",
       "      <td>0.000</td>\n",
       "    </tr>\n",
       "    <tr>\n",
       "      <th>title_status</th>\n",
       "      <td>0</td>\n",
       "      <td>0.000</td>\n",
       "    </tr>\n",
       "    <tr>\n",
       "      <th>transmission</th>\n",
       "      <td>0</td>\n",
       "      <td>0.000</td>\n",
       "    </tr>\n",
       "    <tr>\n",
       "      <th>type</th>\n",
       "      <td>0</td>\n",
       "      <td>0.000</td>\n",
       "    </tr>\n",
       "    <tr>\n",
       "      <th>paint_color</th>\n",
       "      <td>0</td>\n",
       "      <td>0.000</td>\n",
       "    </tr>\n",
       "    <tr>\n",
       "      <th>state</th>\n",
       "      <td>0</td>\n",
       "      <td>0.000</td>\n",
       "    </tr>\n",
       "  </tbody>\n",
       "</table>\n",
       "</div>"
      ],
      "text/plain": [
       "              null  percent\n",
       "drive          300    0.001\n",
       "region           0    0.000\n",
       "price            0    0.000\n",
       "year             0    0.000\n",
       "manufacturer     0    0.000\n",
       "model            0    0.000\n",
       "condition        0    0.000\n",
       "cylinders        0    0.000\n",
       "fuel             0    0.000\n",
       "odometer         0    0.000\n",
       "title_status     0    0.000\n",
       "transmission     0    0.000\n",
       "type             0    0.000\n",
       "paint_color      0    0.000\n",
       "state            0    0.000"
      ]
     },
     "execution_count": 339,
     "metadata": {},
     "output_type": "execute_result"
    }
   ],
   "source": [
    "null_values=df.isnull().sum()\n",
    "null_values=pd.DataFrame(null_values,columns=['null'])\n",
    "j=1\n",
    "sum_tot=len(df)\n",
    "null_values['percent']=null_values['null']/sum_tot\n",
    "round(null_values*100,3).sort_values('percent',ascending=False)"
   ]
  },
  {
   "cell_type": "code",
   "execution_count": 321,
   "metadata": {},
   "outputs": [],
   "source": [
    "# drop rows with less than 6% of null values\n",
    "df = df.dropna(subset=['fuel','transmission','model','manufacturer', 'title_status'])"
   ]
  },
  {
   "cell_type": "code",
   "execution_count": 322,
   "metadata": {},
   "outputs": [],
   "source": [
    "df['paint_color'] = df['paint_color'].fillna(method='ffill')"
   ]
  },
  {
   "cell_type": "code",
   "execution_count": 340,
   "metadata": {},
   "outputs": [],
   "source": [
    "# drive type\n",
    "df['drive'] = df['drive'].fillna(method='ffill')"
   ]
  },
  {
   "cell_type": "code",
   "execution_count": 341,
   "metadata": {},
   "outputs": [],
   "source": [
    "#cyliners\n",
    "df['cylinders'] = df['cylinders'].fillna(method='ffill')"
   ]
  },
  {
   "cell_type": "code",
   "execution_count": 342,
   "metadata": {},
   "outputs": [],
   "source": [
    "#type\n",
    "df['type'] = df['type'].fillna(method='ffill')"
   ]
  },
  {
   "cell_type": "code",
   "execution_count": 345,
   "metadata": {},
   "outputs": [
    {
     "data": {
      "text/plain": [
       "region          0\n",
       "price           0\n",
       "year            0\n",
       "manufacturer    0\n",
       "model           0\n",
       "condition       0\n",
       "cylinders       0\n",
       "fuel            0\n",
       "odometer        0\n",
       "title_status    0\n",
       "transmission    0\n",
       "drive           0\n",
       "type            0\n",
       "paint_color     0\n",
       "state           0\n",
       "dtype: int64"
      ]
     },
     "execution_count": 345,
     "metadata": {},
     "output_type": "execute_result"
    }
   ],
   "source": [
    "df.isnull().sum()"
   ]
  },
  {
   "cell_type": "code",
   "execution_count": 344,
   "metadata": {},
   "outputs": [],
   "source": [
    "# drop rows with null values\n",
    "df = df.dropna(subset=['drive'])"
   ]
  },
  {
   "cell_type": "code",
   "execution_count": 346,
   "metadata": {},
   "outputs": [],
   "source": [
    "df.to_csv('/Users/patrickokwir/Desktop/Capstone---Predicting-market-value-of-used-cars/Data/cleaned_cars.csv', index=False)"
   ]
  },
  {
   "cell_type": "code",
   "execution_count": null,
   "metadata": {},
   "outputs": [],
   "source": []
  }
 ],
 "metadata": {
  "kernelspec": {
   "display_name": "Python_3_9",
   "language": "python",
   "name": "python3"
  },
  "language_info": {
   "codemirror_mode": {
    "name": "ipython",
    "version": 3
   },
   "file_extension": ".py",
   "mimetype": "text/x-python",
   "name": "python",
   "nbconvert_exporter": "python",
   "pygments_lexer": "ipython3",
   "version": "3.9.7"
  },
  "orig_nbformat": 4
 },
 "nbformat": 4,
 "nbformat_minor": 2
}
